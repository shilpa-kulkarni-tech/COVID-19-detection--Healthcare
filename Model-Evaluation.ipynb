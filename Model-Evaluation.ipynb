{
 "cells": [
  {
   "cell_type": "code",
   "execution_count": 1,
   "id": "72b26ae9-1cbb-49c5-982b-aacaf19e8ec4",
   "metadata": {},
   "outputs": [
    {
     "name": "stdout",
     "output_type": "stream",
     "text": [
      "modules loaded\n"
     ]
    }
   ],
   "source": [
    "# import system libs\n",
    "import os\n",
    "import time\n",
    "import shutil\n",
    "import pathlib\n",
    "import itertools\n",
    "\n",
    "# import data handling tools\n",
    "import cv2\n",
    "import numpy as np\n",
    "import pandas as pd\n",
    "import seaborn as sns\n",
    "sns.set_style('darkgrid')\n",
    "import matplotlib.pyplot as plt\n",
    "from sklearn.model_selection import train_test_split\n",
    "from sklearn.metrics import confusion_matrix, classification_report\n",
    "\n",
    "# import Deep learning Libraries\n",
    "import tensorflow as tf\n",
    "from tensorflow import keras\n",
    "from tensorflow.keras.models import Sequential\n",
    "from tensorflow.keras.optimizers import Adam, Adamax\n",
    "from tensorflow.keras.metrics import categorical_crossentropy\n",
    "from tensorflow.keras.preprocessing.image import ImageDataGenerator\n",
    "from tensorflow.keras.layers import Conv2D, MaxPooling2D, Flatten, Dense, Activation, Dropout, BatchNormalization\n",
    "from tensorflow.keras import regularizers\n",
    "\n",
    "# Ignore Warnings\n",
    "import warnings\n",
    "warnings.filterwarnings(\"ignore\")\n",
    "\n",
    "print ('modules loaded')"
   ]
  },
  {
   "cell_type": "code",
   "execution_count": 2,
   "id": "5a363696-bea5-42fb-a7c2-593208114499",
   "metadata": {},
   "outputs": [
    {
     "name": "stdout",
     "output_type": "stream",
     "text": [
      "Train size: 16932, Validation size: 2116, Test size: 2117\n"
     ]
    }
   ],
   "source": [
    "data_dir = '/Users/shilp_xy1uyyy/Downloads/covid-dataset/COVID-19_Radiography_Dataset'\n",
    "filepaths = []\n",
    "labels = []\n",
    "\n",
    "folds = os.listdir(data_dir)\n",
    "for fold in folds:\n",
    "    foldpath = os.path.join(data_dir, fold)\n",
    "    # check the folders from main directory. If there are another files, ignore them\n",
    "    if pathlib.Path(foldpath).suffix != '':\n",
    "        continue\n",
    "\n",
    "    if os.path.isdir(foldpath):\n",
    "        filelist = os.listdir(foldpath)\n",
    "        #print(filelist)\n",
    "        for file in filelist:\n",
    "            fpath = os.path.join(foldpath, file)\n",
    "            if os.path.isdir(fpath):\n",
    "                # check if there are another folders\n",
    "                if pathlib.Path(foldpath).suffix == '':\n",
    "                    # check unneeded masks\n",
    "                    if pathlib.Path(fpath).parts[-1] == 'masks' or pathlib.Path(fpath).parts[-1] == 'Masks' or pathlib.Path(fpath).parts[-1] == 'MASKS':\n",
    "                        continue\n",
    "\n",
    "                    else:\n",
    "                        o_file = os.listdir(fpath)\n",
    "                        for f in o_file:\n",
    "                            ipath = os.path.join(fpath, f)\n",
    "                            filepaths.append(ipath)\n",
    "                            labels.append(fold)\n",
    "\n",
    "                else:\n",
    "                    filepaths.append(fpath)\n",
    "                    labels.append(fold)\n",
    "\n",
    "df = pd.DataFrame({'filepaths': filepaths, 'labels': labels})\n",
    "\n",
    "strat = df['labels']\n",
    "train_df, dummy_df = train_test_split(df, train_size=0.8, shuffle=True, random_state=123, stratify=strat)\n",
    "\n",
    "strat = dummy_df['labels']\n",
    "valid_df, test_df = train_test_split(dummy_df, train_size=0.5, shuffle=True, random_state=123, stratify=strat)\n",
    "\n",
    "print(f'Train size: {len(train_df)}, Validation size: {len(valid_df)}, Test size: {len(test_df)}')"
   ]
  },
  {
   "cell_type": "code",
   "execution_count": 3,
   "id": "a1632604-71a4-4144-924b-fd6d523cb4af",
   "metadata": {},
   "outputs": [
    {
     "name": "stdout",
     "output_type": "stream",
     "text": [
      "Found 16932 validated image filenames belonging to 4 classes.\n",
      "Found 2116 validated image filenames belonging to 4 classes.\n",
      "Found 2117 validated image filenames belonging to 4 classes.\n"
     ]
    }
   ],
   "source": [
    "img_size = (224, 224)\n",
    "channels = 3 # either BGR or Grayscale\n",
    "color = 'rgb'\n",
    "img_shape = (img_size[0], img_size[1], channels)\n",
    "batch_size = 16\n",
    "\n",
    "# Recommended : use custom function for test data batch size, else we can use normal batch size.\n",
    "ts_length = len(test_df)\n",
    "test_batch_size = max(sorted([ts_length // n for n in range(1, ts_length + 1) if ts_length%n == 0 and ts_length/n <= 80]))\n",
    "test_steps = ts_length // test_batch_size\n",
    "\n",
    "# This function which will be used in image data generator for data augmentation, it just take the image and return it again.\n",
    "def scalar(img):\n",
    "    return img\n",
    "\n",
    "tr_gen = ImageDataGenerator(preprocessing_function= scalar, horizontal_flip= True)\n",
    "ts_gen = ImageDataGenerator(preprocessing_function= scalar)\n",
    "\n",
    "train_gen = tr_gen.flow_from_dataframe( train_df, x_col= 'filepaths', y_col= 'labels', target_size= img_size, class_mode= 'categorical',\n",
    "                                    color_mode= color, shuffle= True, batch_size= batch_size)\n",
    "\n",
    "valid_gen = ts_gen.flow_from_dataframe( valid_df, x_col= 'filepaths', y_col= 'labels', target_size= img_size, class_mode= 'categorical',\n",
    "                                    color_mode= color, shuffle= True, batch_size= batch_size)\n",
    "\n",
    "# Note: we will use custom test_batch_size, and make shuffle= false\n",
    "test_gen = ts_gen.flow_from_dataframe( test_df, x_col= 'filepaths', y_col= 'labels', target_size= img_size, class_mode= 'categorical',\n",
    "                                    color_mode= color, shuffle= False, batch_size= test_batch_size)"
   ]
  },
  {
   "cell_type": "code",
   "execution_count": 6,
   "id": "7f3dc45e-152d-49b9-93f7-b137e946bd78",
   "metadata": {},
   "outputs": [],
   "source": [
    "model = keras.models.load_model('LeNet_Saved.h5')\n",
    "#model = keras.models.load_model('test.h5')\n"
   ]
  },
  {
   "cell_type": "code",
   "execution_count": 7,
   "id": "c4d2a130-2904-4438-9fa2-ca66897ea5e2",
   "metadata": {},
   "outputs": [
    {
     "name": "stdout",
     "output_type": "stream",
     "text": [
      "29/29 [==============================] - 51s 2s/step - loss: 0.6716 - accuracy: 0.7402\n"
     ]
    },
    {
     "data": {
      "text/plain": [
       "[0.6716446876525879, 0.7401983737945557]"
      ]
     },
     "execution_count": 7,
     "metadata": {},
     "output_type": "execute_result"
    }
   ],
   "source": [
    "model.evaluate(test_gen)"
   ]
  },
  {
   "cell_type": "code",
   "execution_count": 8,
   "id": "d21fbb1c-13e5-4cd0-b14d-0bd993d21452",
   "metadata": {},
   "outputs": [],
   "source": [
    "preds = model.predict_generator(test_gen)"
   ]
  },
  {
   "cell_type": "code",
   "execution_count": 9,
   "id": "291b2ad9-6dea-4528-a338-6bb41fa6349e",
   "metadata": {},
   "outputs": [],
   "source": [
    "y_pred = np.argmax(preds, axis=1)"
   ]
  },
  {
   "cell_type": "code",
   "execution_count": 10,
   "id": "09d94c6d-6771-47ac-93d2-8dc3867ee074",
   "metadata": {},
   "outputs": [],
   "source": [
    "g_dict = test_gen.class_indices\n",
    "classes = list(g_dict.keys())\n",
    "\n",
    "# Confusion matrix\n",
    "cm = confusion_matrix(test_gen.classes, y_pred)"
   ]
  },
  {
   "cell_type": "code",
   "execution_count": 11,
   "id": "7b0aa9f0-8342-444a-922e-cde46131d0f1",
   "metadata": {},
   "outputs": [],
   "source": [
    "cr2 = classification_report(test_gen.classes, y_pred, target_names= classes)"
   ]
  },
  {
   "cell_type": "code",
   "execution_count": 12,
   "id": "02f18a3a-2a95-4cf4-af1c-f91d9d39122a",
   "metadata": {
    "scrolled": true
   },
   "outputs": [
    {
     "data": {
      "image/png": "[encoded data removed]",
      "text/plain": [
       "<Figure size 640x480 with 2 Axes>"
      ]
     },
     "metadata": {},
     "output_type": "display_data"
    }
   ],
   "source": [
    "from sklearn.metrics import confusion_matrix\n",
    "import seaborn as sns\n",
    "import matplotlib.pyplot as plt\n",
    "\n",
    "# y_true and y_pred are the true and predicted labels, respectively\n",
    "\n",
    "\n",
    "# Create a heatmap of the confusion matrix\n",
    "sns.heatmap(cm, annot=True, fmt='d', cmap='Blues')\n",
    "\n",
    "# Add labels, title, and ticks to the plot\n",
    "plt.xlabel('Predicted Labels')\n",
    "plt.ylabel('True Labels')\n",
    "plt.title('Confusion Matrix')\n",
    "plt.xticks(ticks=[0, 1, 2, 3], labels=classes)\n",
    "plt.yticks(ticks=[0, 1, 2, 3], labels=classes)\n",
    "plt.show()"
   ]
  },
  {
   "cell_type": "code",
   "execution_count": 15,
   "id": "3ec0f136-68ac-4f57-9019-de71504f8126",
   "metadata": {},
   "outputs": [
    {
     "name": "stdout",
     "output_type": "stream",
     "text": [
      "                 precision    recall  f1-score   support\n",
      "\n",
      "          COVID       0.70      0.60      0.65       362\n",
      "   Lung_Opacity       0.66      0.75      0.71       602\n",
      "         Normal       0.79      0.78      0.79      1019\n",
      "Viral Pneumonia       0.82      0.74      0.78       134\n",
      "\n",
      "       accuracy                           0.74      2117\n",
      "      macro avg       0.75      0.72      0.73      2117\n",
      "   weighted avg       0.74      0.74      0.74      2117\n",
      "\n"
     ]
    }
   ],
   "source": [
    "print(cr2)"
   ]
  },
  {
   "cell_type": "code",
   "execution_count": null,
   "id": "c98ba0d2-00bd-432b-a558-2b331a157dec",
   "metadata": {},
   "outputs": [],
   "source": []
  }
 ],
 "metadata": {
  "kernelspec": {
   "display_name": "Python 3 (ipykernel)",
   "language": "python",
   "name": "python3"
  },
  "language_info": {
   "codemirror_mode": {
    "name": "ipython",
    "version": 3
   },
   "file_extension": ".py",
   "mimetype": "text/x-python",
   "name": "python",
   "nbconvert_exporter": "python",
   "pygments_lexer": "ipython3",
   "version": "3.11.5"
  }
 },
 "nbformat": 4,
 "nbformat_minor": 5
}
